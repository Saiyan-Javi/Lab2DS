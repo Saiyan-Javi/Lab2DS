{
 "cells": [
  {
   "cell_type": "markdown",
   "id": "2941cf58",
   "metadata": {},
   "source": [
    "# Laboratorio 2\n",
    "## Data Science \n",
    "Javier Ovalle 22103\n",
    "José Ángel Morales 22689\n",
    "Ricardo Morale 22289"
   ]
  },
  {
   "cell_type": "code",
   "execution_count": null,
   "id": "c5a2777e",
   "metadata": {},
   "outputs": [],
   "source": []
  },
  {
   "cell_type": "code",
   "execution_count": null,
   "id": "f070fd05",
   "metadata": {},
   "outputs": [],
   "source": []
  }
 ],
 "metadata": {
  "language_info": {
   "name": "python"
  }
 },
 "nbformat": 4,
 "nbformat_minor": 5
}
